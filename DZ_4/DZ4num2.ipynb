{
 "cells": [
  {
   "cell_type": "code",
   "execution_count": 3,
   "id": "b2a9282c-2d20-4654-abed-323916dabc1c",
   "metadata": {},
   "outputs": [
    {
     "name": "stdout",
     "output_type": "stream",
     "text": [
      "[[17  4  8]\n",
      " [ 7  6 -8]\n",
      " [ 4 -1  9]]\n"
     ]
    }
   ],
   "source": [
    "import numpy as mat  \n",
    "# матрицы  \n",
    "matrix_1 = mat.array([[9, 2, 4], [7, 5, -5], [6, -2, 3]])  \n",
    "matrix_2 = mat.array([[8, 2, 4], [0, 1, -3], [-2, 1, 6]]) \n",
    "matrix_3 = mat.array([[-2, 0], [4, 8],[1, -1]])\n",
    "#сложение матриц\n",
    "print(matrix_1 + matrix_2) "
   ]
  },
  {
   "cell_type": "code",
   "execution_count": 4,
   "id": "c1f2d192-9a78-4632-be9b-a612a2ad3827",
   "metadata": {},
   "outputs": [
    {
     "name": "stdout",
     "output_type": "stream",
     "text": [
      "[[-1  0  0]\n",
      " [-7 -4  2]\n",
      " [-8  3  3]]\n"
     ]
    }
   ],
   "source": [
    "#вычитание матриц\n",
    "print(matrix_2 - matrix_1) "
   ]
  },
  {
   "cell_type": "code",
   "execution_count": 5,
   "id": "9e812de6-6a11-4238-8b00-211eac472988",
   "metadata": {},
   "outputs": [
    {
     "name": "stdout",
     "output_type": "stream",
     "text": [
      "[[ -6  12]\n",
      " [  1  45]\n",
      " [-17 -19]]\n"
     ]
    }
   ],
   "source": [
    "#умножение первой и третьей матрицы\n",
    "result = mat.dot(matrix_1, matrix_3)  \n",
    "print(result) "
   ]
  },
  {
   "cell_type": "code",
   "execution_count": 6,
   "id": "4ad49c28-8f79-4e60-996d-05370cec6ee1",
   "metadata": {},
   "outputs": [
    {
     "name": "stdout",
     "output_type": "stream",
     "text": [
      "[[ 22 138]\n",
      " [-93 129]\n",
      " [ 16  56]]\n"
     ]
    }
   ],
   "source": [
    "#умножение первой матрицы на вторую затем на третью\n",
    "result = mat.dot(matrix_1, matrix_2) \n",
    "result_2 = mat.dot(result, matrix_3) \n",
    "print(result_2) "
   ]
  },
  {
   "cell_type": "code",
   "execution_count": null,
   "id": "06d2ebc6-d7bb-43eb-9adf-8a5e447d5f6a",
   "metadata": {},
   "outputs": [],
   "source": []
  }
 ],
 "metadata": {
  "kernelspec": {
   "display_name": "Python [conda env:base] *",
   "language": "python",
   "name": "conda-base-py"
  },
  "language_info": {
   "codemirror_mode": {
    "name": "ipython",
    "version": 3
   },
   "file_extension": ".py",
   "mimetype": "text/x-python",
   "name": "python",
   "nbconvert_exporter": "python",
   "pygments_lexer": "ipython3",
   "version": "3.13.5"
  }
 },
 "nbformat": 4,
 "nbformat_minor": 5
}
