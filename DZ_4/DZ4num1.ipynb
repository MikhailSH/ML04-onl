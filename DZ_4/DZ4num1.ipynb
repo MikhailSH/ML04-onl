{
 "cells": [
  {
   "cell_type": "code",
   "execution_count": 32,
   "id": "8a51ca81-13f1-4e8c-acf7-4884ef046a5a",
   "metadata": {},
   "outputs": [
    {
     "name": "stdout",
     "output_type": "stream",
     "text": [
      "[[ 0  2  7]\n",
      " [ 9 -1 -1]\n",
      " [-9  2  8]]\n"
     ]
    }
   ],
   "source": [
    "import numpy as mat  \n",
    "# матрицы\n",
    "matrix_1 = mat.array([[1, 2, 4], [7, 5, -2], [-2, 1, 3]])  \n",
    "matrix_2 = mat.array([[-1, 0, 3], [2, -6, 1], [-7, 1, 5]]) \n",
    "matrix_3 = mat.array([[-2, 3], [4, 0],[7, -1]])\n",
    "#сложение матриц\n",
    "print(matrix_1 + matrix_2) "
   ]
  },
  {
   "cell_type": "code",
   "execution_count": 33,
   "id": "1e05000c-443b-41ac-bd88-1c2f8bc34259",
   "metadata": {},
   "outputs": [
    {
     "name": "stdout",
     "output_type": "stream",
     "text": [
      "[[ -2  -2  -1]\n",
      " [ -5 -11   3]\n",
      " [ -5   0   2]]\n"
     ]
    }
   ],
   "source": [
    "#вычитание матриц\n",
    "print(matrix_2 - matrix_1) "
   ]
  },
  {
   "cell_type": "code",
   "execution_count": 35,
   "id": "a4e5646e-0954-4b7f-ba0f-1b6f84aa27dc",
   "metadata": {},
   "outputs": [
    {
     "name": "stdout",
     "output_type": "stream",
     "text": [
      "[[34 -1]\n",
      " [-8 23]\n",
      " [29 -9]]\n"
     ]
    }
   ],
   "source": [
    "#умножение первой и третьей матрицы\n",
    "result = mat.dot(matrix_1, matrix_3)  \n",
    "print(result) "
   ]
  },
  {
   "cell_type": "code",
   "execution_count": 36,
   "id": "4c2e98ae-1460-4a6f-819b-1b38b637a3b8",
   "metadata": {},
   "outputs": [
    {
     "name": "stdout",
     "output_type": "stream",
     "text": [
      "[[ 193 -100]\n",
      " [ -50   35]\n",
      " [  92  -61]]\n"
     ]
    }
   ],
   "source": [
    "#умножение первой матрицы на вторую затем на третью\n",
    "result = mat.dot(matrix_1, matrix_2) \n",
    "result_2 = mat.dot(result, matrix_3) \n",
    "print(result_2) "
   ]
  },
  {
   "cell_type": "code",
   "execution_count": null,
   "id": "0056055a-bc30-469b-96ff-541e0ebd2d75",
   "metadata": {},
   "outputs": [],
   "source": []
  },
  {
   "cell_type": "code",
   "execution_count": null,
   "id": "8dffd7fa-f8fe-4be2-a9e8-94cc19dafe8b",
   "metadata": {},
   "outputs": [],
   "source": []
  }
 ],
 "metadata": {
  "kernelspec": {
   "display_name": "Python [conda env:base] *",
   "language": "python",
   "name": "conda-base-py"
  },
  "language_info": {
   "codemirror_mode": {
    "name": "ipython",
    "version": 3
   },
   "file_extension": ".py",
   "mimetype": "text/x-python",
   "name": "python",
   "nbconvert_exporter": "python",
   "pygments_lexer": "ipython3",
   "version": "3.13.5"
  }
 },
 "nbformat": 4,
 "nbformat_minor": 5
}
