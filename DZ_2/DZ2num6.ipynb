{
 "cells": [
  {
   "cell_type": "code",
   "execution_count": 32,
   "id": "919eefcf-348d-4f46-acef-0e8d57bf848f",
   "metadata": {},
   "outputs": [
    {
     "name": "stdout",
     "output_type": "stream",
     "text": [
      "Есть контакт!\n"
     ]
    }
   ],
   "source": [
    "#функция ищет совпадение символов в строке без учета регистра\n",
    "subst = \"оКа\"\n",
    "st = \"стрОка проверяет Ок смысл\"\n",
    "#print(st)\n",
    "import re\n",
    "def search_substr(subst, st):\n",
    "    match = re.search(subst, st, re.IGNORECASE)\n",
    "    if match:\n",
    "        print(\"Есть контакт!\")\n",
    "    else:\n",
    "        print(\"Мимо!\")\n",
    "search_substr(subst, st)        "
   ]
  },
  {
   "cell_type": "code",
   "execution_count": null,
   "id": "dcbc0e6d-81ae-4850-84c3-9d18471d2750",
   "metadata": {},
   "outputs": [],
   "source": []
  },
  {
   "cell_type": "code",
   "execution_count": null,
   "id": "3abe232f-9cda-47ed-b4a6-fc15302cc0a0",
   "metadata": {},
   "outputs": [],
   "source": []
  },
  {
   "cell_type": "code",
   "execution_count": null,
   "id": "95dab66b-b856-4016-bace-1443f1ec38bc",
   "metadata": {},
   "outputs": [],
   "source": []
  }
 ],
 "metadata": {
  "kernelspec": {
   "display_name": "Python [conda env:base] *",
   "language": "python",
   "name": "conda-base-py"
  },
  "language_info": {
   "codemirror_mode": {
    "name": "ipython",
    "version": 3
   },
   "file_extension": ".py",
   "mimetype": "text/x-python",
   "name": "python",
   "nbconvert_exporter": "python",
   "pygments_lexer": "ipython3",
   "version": "3.13.5"
  }
 },
 "nbformat": 4,
 "nbformat_minor": 5
}
