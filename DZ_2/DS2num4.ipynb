{
 "cells": [
  {
   "cell_type": "code",
   "execution_count": 1,
   "id": "a97ebb06-ed50-49a3-ae46-dfc9a01de0ac",
   "metadata": {},
   "outputs": [
    {
     "name": "stdout",
     "output_type": "stream",
     "text": [
      "Список: [10, 26, 32, 21, 16, 12, 26, 39, 12, 43, 49]\n",
      "Длинна списка: 11\n",
      "Самое большое число: 49\n",
      "49 / 11 = 4.454545454545454\n"
     ]
    }
   ],
   "source": [
    "#создается произвольный список,вычисляется самое большое число и делится пополам\n",
    "import random\n",
    "#получаем размер списка, случайное число\n",
    "num = random.randint(2, 20)\n",
    "#генерируем список случайных чисел от 1 до 50\n",
    "mylist = [random.randint(1, 50) for _ in range(num)]\n",
    "print(\"Список:\", mylist)\n",
    "print(\"Длинна списка:\", num)\n",
    "#в функции вычисляем самое большое число и делим на длинну списка\n",
    "def useless(mylist):\n",
    "    big = max(mylist)\n",
    "    print(\"Самое большое число:\", big)\n",
    "    result = big / num\n",
    "    print(big, \"/\", num, \"=\", result )\n",
    "useless( mylist)"
   ]
  },
  {
   "cell_type": "code",
   "execution_count": null,
   "id": "d16e9098-43c9-4c63-90f6-eafc4a81bec9",
   "metadata": {},
   "outputs": [],
   "source": []
  }
 ],
 "metadata": {
  "kernelspec": {
   "display_name": "Python [conda env:base] *",
   "language": "python",
   "name": "conda-base-py"
  },
  "language_info": {
   "codemirror_mode": {
    "name": "ipython",
    "version": 3
   },
   "file_extension": ".py",
   "mimetype": "text/x-python",
   "name": "python",
   "nbconvert_exporter": "python",
   "pygments_lexer": "ipython3",
   "version": "3.13.5"
  }
 },
 "nbformat": 4,
 "nbformat_minor": 5
}
