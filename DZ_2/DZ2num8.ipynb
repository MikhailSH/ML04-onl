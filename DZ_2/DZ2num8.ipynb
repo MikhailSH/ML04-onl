{
 "cells": [
  {
   "cell_type": "code",
   "execution_count": 18,
   "id": "0792d14e-986b-4a94-b489-81ded3d92ccd",
   "metadata": {},
   "outputs": [
    {
     "name": "stdout",
     "output_type": "stream",
     "text": [
      "[3, 4, 7, 8, 3, 1, 5, 7, 4, 4, 6]\n",
      "Counter({4: 3, 3: 2, 7: 2, 8: 1, 1: 1, 5: 1, 6: 1})\n",
      "[(4, 3), (3, 2), (7, 2)]\n"
     ]
    }
   ],
   "source": [
    "#функция выбирает из строки 3 самых часто используемых числа\n",
    "import random\n",
    "import collections\n",
    "num = random.randint(2, 50)\n",
    "seqence = [random.randint(1, 9) for _ in range(num)]\n",
    "print(seqence)\n",
    "def count_it(seqence):\n",
    "    newseqence = collections.Counter(seqence)\n",
    "    print(newseqence)\n",
    "    print(newseqence.most_common(3))\n",
    "count_it(seqence)"
   ]
  },
  {
   "cell_type": "code",
   "execution_count": null,
   "id": "5da98292-8954-4e2b-875e-2f1b1c383461",
   "metadata": {},
   "outputs": [],
   "source": []
  },
  {
   "cell_type": "code",
   "execution_count": null,
   "id": "fcc3ec09-67c0-4396-a694-ab31472d3993",
   "metadata": {},
   "outputs": [],
   "source": []
  }
 ],
 "metadata": {
  "kernelspec": {
   "display_name": "Python [conda env:base] *",
   "language": "python",
   "name": "conda-base-py"
  },
  "language_info": {
   "codemirror_mode": {
    "name": "ipython",
    "version": 3
   },
   "file_extension": ".py",
   "mimetype": "text/x-python",
   "name": "python",
   "nbconvert_exporter": "python",
   "pygments_lexer": "ipython3",
   "version": "3.13.5"
  }
 },
 "nbformat": 4,
 "nbformat_minor": 5
}
