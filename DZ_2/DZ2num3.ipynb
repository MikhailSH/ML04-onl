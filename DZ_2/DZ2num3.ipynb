{
 "cells": [
  {
   "cell_type": "code",
   "execution_count": 41,
   "id": "57d88834-4d00-4064-a750-7162228e27cf",
   "metadata": {},
   "outputs": [
    {
     "name": "stdout",
     "output_type": "stream",
     "text": [
      "[10, 2, 3, 4, 5, 6, 7, 8, 9, 1]\n",
      "[1, 2, 3, 4, 5, 6, 7, 8, 9, 10]\n"
     ]
    }
   ],
   "source": [
    "#функция меняет первый и последний символ в полученом списке\n",
    "mylist = [10, 2, 3, 4, 5, 6, 7, 8, 9, 1]\n",
    "print(mylist)\n",
    "def change(mylist):\n",
    "    num = mylist[0]\n",
    "    mylist[0] = mylist[len(mylist)-1]\n",
    "    mylist[len(mylist)-1] = num\n",
    "    print(mylist)\n",
    "change(mylist)    \n",
    "  "
   ]
  },
  {
   "cell_type": "code",
   "execution_count": null,
   "id": "1720ff05-835b-4019-874c-cef95c74092c",
   "metadata": {},
   "outputs": [],
   "source": []
  }
 ],
 "metadata": {
  "kernelspec": {
   "display_name": "Python [conda env:base] *",
   "language": "python",
   "name": "conda-base-py"
  },
  "language_info": {
   "codemirror_mode": {
    "name": "ipython",
    "version": 3
   },
   "file_extension": ".py",
   "mimetype": "text/x-python",
   "name": "python",
   "nbconvert_exporter": "python",
   "pygments_lexer": "ipython3",
   "version": "3.13.5"
  }
 },
 "nbformat": 4,
 "nbformat_minor": 5
}
