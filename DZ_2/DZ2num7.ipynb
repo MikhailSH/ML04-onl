{
 "cells": [
  {
   "cell_type": "code",
   "execution_count": 69,
   "id": "a51d2522-d2be-4959-97f3-90dda53ddc3d",
   "metadata": {},
   "outputs": [
    {
     "name": "stdout",
     "output_type": "stream",
     "text": [
      "[('A', 10), ('л', 9), ('о', 7)]\n"
     ]
    }
   ],
   "source": [
    "#функция получает текст и высчитывает 3 самве частые повторения букв без учета пробелов\n",
    "mylist = \"ооооооо лл aaaAAAAAAAAAArgar ЭДПЛЭУЬдпдл уждлт ужлт жцулл йжкдлл\"\n",
    "def hip(mylist):\n",
    "    #убираем пробелы\n",
    "    mylist = mylist.replace(\" \", \"\")\n",
    "    #создаем список с колисеством повторений\n",
    "    newmylist = collections.Counter(mylist)\n",
    "    #распечатываем 3 самые частые буквы\n",
    "    print(newmylist.most_common(3))\n",
    "hip(mylist)        "
   ]
  },
  {
   "cell_type": "code",
   "execution_count": null,
   "id": "18cc28de-080b-4951-a1ff-d770819a0e1c",
   "metadata": {},
   "outputs": [],
   "source": []
  },
  {
   "cell_type": "code",
   "execution_count": null,
   "id": "6599baa7-eca5-4c4c-8991-6a8a763c336d",
   "metadata": {},
   "outputs": [],
   "source": []
  },
  {
   "cell_type": "code",
   "execution_count": null,
   "id": "c996ed8a-a173-45f4-ba18-b916bc049d66",
   "metadata": {},
   "outputs": [],
   "source": []
  },
  {
   "cell_type": "code",
   "execution_count": null,
   "id": "fea066b2-88ba-45ce-9c36-00c7c254be70",
   "metadata": {},
   "outputs": [],
   "source": []
  }
 ],
 "metadata": {
  "kernelspec": {
   "display_name": "Python [conda env:base] *",
   "language": "python",
   "name": "conda-base-py"
  },
  "language_info": {
   "codemirror_mode": {
    "name": "ipython",
    "version": 3
   },
   "file_extension": ".py",
   "mimetype": "text/x-python",
   "name": "python",
   "nbconvert_exporter": "python",
   "pygments_lexer": "ipython3",
   "version": "3.13.5"
  }
 },
 "nbformat": 4,
 "nbformat_minor": 5
}
