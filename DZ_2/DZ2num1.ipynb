{
 "cells": [
  {
   "cell_type": "code",
   "execution_count": 22,
   "id": "ee543d36-fec0-4d2e-afb5-52080228ade4",
   "metadata": {},
   "outputs": [
    {
     "name": "stdout",
     "output_type": "stream",
     "text": [
      "Задайте коэфициенты уравнения а, в, с\n"
     ]
    },
    {
     "name": "stdin",
     "output_type": "stream",
     "text": [
      "a =  4\n",
      "b =  1\n",
      "c =  4\n"
     ]
    },
    {
     "name": "stdout",
     "output_type": "stream",
     "text": [
      "Уровнение не имеет корней\n"
     ]
    }
   ],
   "source": [
    "# пользователь вносит кофициенты квадратного уравнения и производится подсчет с помощью дискриминанта\n",
    "# y^2-12y+20=0\n",
    "print (\"Задайте коэфициенты уравнения а, в, с\")\n",
    "a = int(input (\"a = \"))\n",
    "b = int(input (\"b = \"))\n",
    "c = int(input (\"c = \"))\n",
    "#загрузил библеотеку \n",
    "import math\n",
    "#дискримиант\n",
    "diskr = b**2 - 4*a*c\n",
    "if diskr<0: print (\"Уровнение не имеет корней\")\n",
    "else: \n",
    "    if diskr==0: print(-b / (a * 2))\n",
    "    else:\n",
    "        print ((-b + math.sqrt(diskr)) / (a * 2))\n",
    "        print ((-b - math.sqrt(diskr)) / (a * 2))\n"
   ]
  },
  {
   "cell_type": "code",
   "execution_count": null,
   "id": "0c7c64bc-7ce7-4536-8aaf-78bc99131e72",
   "metadata": {},
   "outputs": [],
   "source": []
  }
 ],
 "metadata": {
  "kernelspec": {
   "display_name": "Python [conda env:base] *",
   "language": "python",
   "name": "conda-base-py"
  },
  "language_info": {
   "codemirror_mode": {
    "name": "ipython",
    "version": 3
   },
   "file_extension": ".py",
   "mimetype": "text/x-python",
   "name": "python",
   "nbconvert_exporter": "python",
   "pygments_lexer": "ipython3",
   "version": "3.13.5"
  }
 },
 "nbformat": 4,
 "nbformat_minor": 5
}
