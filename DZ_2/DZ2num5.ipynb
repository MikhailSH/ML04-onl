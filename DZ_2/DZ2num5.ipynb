{
 "cells": [
  {
   "cell_type": "code",
   "execution_count": 39,
   "id": "ec5380f4-e4ae-45e4-887d-a8606b7a93b6",
   "metadata": {},
   "outputs": [
    {
     "name": "stdout",
     "output_type": "stream",
     "text": [
      "['крот', 'белка', 'выхухоль', 'трансграничный', ' ']\n",
      "['крот__________', 'белка_________', 'выхухоль______', 'трансграничный', ' _____________']\n"
     ]
    }
   ],
   "source": [
    "#функция получает список,высчисляет самое длинное слово и к оставшимся добавляет нижнее подчеркивание до нужного кол-ва символов\n",
    "mylist =  ['крот', 'белка', 'выхухоль','трансграничный',' ']\n",
    "print(mylist)\n",
    "def all_eq(mylist):\n",
    "    #вычисляем самое большое слово\n",
    "    big = len(max(mylist, key=len))\n",
    "    #проходим по списку и в случае если слово меньше выбраного до бавляем\"_\"\n",
    "    for i in range(len(mylist)):\n",
    "       if big > len(mylist[i]):\n",
    "           razn = big - len(mylist[i])\n",
    "           for x in range(razn):\n",
    "               mylistnew = mylist[i] + '_'\n",
    "               mylist[i] = mylistnew        \n",
    "all_eq(mylist) \n",
    "print(mylist)\n",
    "    "
   ]
  },
  {
   "cell_type": "code",
   "execution_count": null,
   "id": "7a73414f-7667-46c6-a525-0d90b1967e25",
   "metadata": {},
   "outputs": [],
   "source": []
  },
  {
   "cell_type": "code",
   "execution_count": null,
   "id": "084f250f-d8b4-40d4-bec3-821bee73c687",
   "metadata": {},
   "outputs": [],
   "source": []
  },
  {
   "cell_type": "code",
   "execution_count": null,
   "id": "ddcce30c-55e9-496e-99f9-2dc79b8e8c1c",
   "metadata": {},
   "outputs": [],
   "source": []
  }
 ],
 "metadata": {
  "kernelspec": {
   "display_name": "Python [conda env:base] *",
   "language": "python",
   "name": "conda-base-py"
  },
  "language_info": {
   "codemirror_mode": {
    "name": "ipython",
    "version": 3
   },
   "file_extension": ".py",
   "mimetype": "text/x-python",
   "name": "python",
   "nbconvert_exporter": "python",
   "pygments_lexer": "ipython3",
   "version": "3.13.5"
  }
 },
 "nbformat": 4,
 "nbformat_minor": 5
}
