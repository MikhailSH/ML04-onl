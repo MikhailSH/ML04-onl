{
 "cells": [
  {
   "cell_type": "code",
   "execution_count": 82,
   "id": "3fc3c928-060c-4ffe-a00e-fc5e68f8f71e",
   "metadata": {},
   "outputs": [
    {
     "name": "stdout",
     "output_type": "stream",
     "text": [
      "Введите координаты вашей фигуры\n"
     ]
    },
    {
     "name": "stdin",
     "output_type": "stream",
     "text": [
      "Координаты оси Х:  7\n",
      "Координаты оси Y:  8\n"
     ]
    },
    {
     "name": "stdout",
     "output_type": "stream",
     "text": [
      "Введите координаты ферзя \n"
     ]
    },
    {
     "name": "stdin",
     "output_type": "stream",
     "text": [
      "Координаты оси Х:  4\n",
      "Координаты оси Y:  5\n"
     ]
    },
    {
     "name": "stdout",
     "output_type": "stream",
     "text": [
      "Вы под ударом!!!\n"
     ]
    }
   ],
   "source": [
    "# Создаем 8x8 массив для шахматной доски\n",
    "#функция печатает матрицу с координатами М моя фигура F врага\n",
    "def p_mass(X_koor, Y_koor, X_ferz, Y_ferz):\n",
    "    board = []\n",
    "    for row in range(8):\n",
    "        board_row = []\n",
    "        for col in range(8):\n",
    "            if Y_koor-1 == col and X_koor-1 == row:\n",
    "                board_row.append('M')\n",
    "            else:\n",
    "                if Y_ferz-1 == col and X_ferz-1 == row:\n",
    "                    board_row.append('F')\n",
    "                else:    \n",
    "                    if (row + col) % 2 == 0:\n",
    "                        board_row.append('0')  \n",
    "                    else:\n",
    "                        board_row.append('1') \n",
    "        board.append(board_row)   \n",
    "    # печатаем доску\n",
    "    for row in board:\n",
    "        print(' '.join(row))\n",
    "#=====================================================\n",
    "print(\"Введите координаты вашей фигуры\")\n",
    "X_koor = int(input(\"Координаты оси Х: \"))\n",
    "Y_koor = int(input(\"Координаты оси Y: \"))\n",
    "\n",
    "print(\"Введите координаты ферзя \")\n",
    "X_ferz = int(input(\"Координаты оси Х: \"))\n",
    "Y_ferz = int(input(\"Координаты оси Y: \"))\n",
    "#проверяю по осям ладьи \n",
    "if X_koor == X_ferz or Y_koor == Y_ferz:\n",
    "    print(\"Вы под ударом!!!\")\n",
    "else:\n",
    "    #в противном случае проверяем по осям слона\n",
    "    if X_koor+Y_koor == X_ferz+Y_ferz or X_koor-X_ferz == Y_koor-Y_ferz:\n",
    "        print(\"Вы под ударом!!!\")\n",
    "    else: \n",
    "        p_mass(X_koor, Y_koor, X_ferz, Y_ferz)\n",
    "       \n",
    "\n",
    "        \n"
   ]
  },
  {
   "cell_type": "code",
   "execution_count": 99,
   "id": "981d1048-cbd2-4d48-92c1-1294eccd52a0",
   "metadata": {},
   "outputs": [
    {
     "name": "stdout",
     "output_type": "stream",
     "text": [
      "Введите координаты вашей фигуры\n"
     ]
    },
    {
     "name": "stdin",
     "output_type": "stream",
     "text": [
      "Координаты оси Х:  4\n",
      "Координаты оси Y:  3\n"
     ]
    },
    {
     "name": "stdout",
     "output_type": "stream",
     "text": [
      "Введите координаты коня \n"
     ]
    },
    {
     "name": "stdin",
     "output_type": "stream",
     "text": [
      "Координаты оси Х:  5\n",
      "Координаты оси Y:  5\n"
     ]
    },
    {
     "name": "stdout",
     "output_type": "stream",
     "text": [
      "0 1 0 1 0 1 0 1\n",
      "1 0 1 0 1 0 1 0\n",
      "0 1 0 * 0 * 0 1\n",
      "1 0 M 0 1 0 * 0\n",
      "0 1 0 1 K 1 0 1\n",
      "1 0 * 0 1 0 * 0\n",
      "0 1 0 * 0 * 0 1\n",
      "1 0 1 0 1 0 1 0\n",
      "Вы под ударом коня!!!\n"
     ]
    }
   ],
   "source": [
    "print(\"Введите координаты вашей фигуры\")\n",
    "X_koor = int(input(\"Координаты оси Х: \"))\n",
    "Y_koor = int(input(\"Координаты оси Y: \"))\n",
    "print(\"Введите координаты коня \")\n",
    "X_kon = int(input(\"Координаты оси Х: \"))\n",
    "Y_kon = int(input(\"Координаты оси Y: \"))\n",
    "#заполняем массив данными\n",
    "shah = []\n",
    "for row in range(8):\n",
    "    shah_row = []\n",
    "    for col in range(8):\n",
    "        if Y_koor-1 == col and X_koor-1 == row:\n",
    "            \n",
    "            shah_row.append('M') #моя фигура\n",
    "        else:    \n",
    "            if Y_kon-1 == col and X_kon-1 == row:\n",
    "                shah_row.append('K')#конь\n",
    "            else:  \n",
    "                if abs(row-X_kon+1)*abs(col-Y_kon+1) == 2:\n",
    "                    shah_row.append('*')#куда может ударить\n",
    "                    \n",
    "                else:    \n",
    "                    if (row + col) % 2 == 0:\n",
    "                        shah_row.append('0')  \n",
    "                    else:\n",
    "                        shah_row.append('1') \n",
    "    shah.append(shah_row)   \n",
    "    # печатаем доску\n",
    "for row in shah:\n",
    "    print(' '.join(row))\n",
    "#проверяем попал или нет\n",
    "for row in range(8):\n",
    "    for col in range(8):\n",
    "        if Y_koor-1 == col and X_koor-1 == row and abs(row-X_kon+1)*abs(col-Y_kon+1) == 2:\n",
    "            print(\"Вы под ударом коня!!!\")\n",
    "        "
   ]
  },
  {
   "cell_type": "code",
   "execution_count": null,
   "id": "f348e3db-0c45-4409-aa57-7c47ced64ac2",
   "metadata": {},
   "outputs": [],
   "source": []
  },
  {
   "cell_type": "code",
   "execution_count": null,
   "id": "ef1a5ba5-ade0-4133-9dee-8265f1dc6ce4",
   "metadata": {},
   "outputs": [],
   "source": []
  },
  {
   "cell_type": "code",
   "execution_count": null,
   "id": "ad30c712-5856-40a9-9ef9-c40c4ecfe995",
   "metadata": {},
   "outputs": [],
   "source": []
  },
  {
   "cell_type": "code",
   "execution_count": null,
   "id": "ee67b94e-845f-4c45-b6de-9bf62c535b43",
   "metadata": {},
   "outputs": [],
   "source": []
  },
  {
   "cell_type": "code",
   "execution_count": null,
   "id": "191db9d4-f18c-404d-a5ed-85b4371d235c",
   "metadata": {},
   "outputs": [],
   "source": []
  },
  {
   "cell_type": "code",
   "execution_count": null,
   "id": "d660056d-b8f0-4566-ad03-3f592610e2bf",
   "metadata": {},
   "outputs": [],
   "source": []
  },
  {
   "cell_type": "code",
   "execution_count": null,
   "id": "3c297317-9149-4e02-8778-125b9a9b62d4",
   "metadata": {},
   "outputs": [],
   "source": []
  }
 ],
 "metadata": {
  "kernelspec": {
   "display_name": "Python [conda env:base] *",
   "language": "python",
   "name": "conda-base-py"
  },
  "language_info": {
   "codemirror_mode": {
    "name": "ipython",
    "version": 3
   },
   "file_extension": ".py",
   "mimetype": "text/x-python",
   "name": "python",
   "nbconvert_exporter": "python",
   "pygments_lexer": "ipython3",
   "version": "3.13.5"
  }
 },
 "nbformat": 4,
 "nbformat_minor": 5
}
