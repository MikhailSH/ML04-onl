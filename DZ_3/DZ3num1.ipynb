{
 "cells": [
  {
   "cell_type": "code",
   "execution_count": 243,
   "id": "83ca8b71-fb42-4cb5-838b-e287575c2df1",
   "metadata": {},
   "outputs": [],
   "source": [
    " class Money:  \n",
    "    def __init__(self):\n",
    "        self._my_wallet = 0.0\n",
    "        self._my_kop = 0.0\n",
    "#---------------------------------\n",
    "    @property\n",
    "    def my_wallet(self):\n",
    "        return self._my_wallet\n",
    "\n",
    "    @my_wallet.setter\n",
    "    def my_wallet(self, val: float):\n",
    "        self._my_wallet += val\n",
    " #-------------------------------       \n",
    "    @property\n",
    "    def my_kop(self):\n",
    "        return self._my_kop\n",
    "        \n",
    "    @my_kop.setter\n",
    "    def my_kop(self, kop: float):\n",
    "        self._my_kop += kop\n",
    "        if self._my_kop >= 100:\n",
    "            self._my_wallet = self._my_wallet+self._my_kop//100\n",
    "            self._my_kop = self._my_kop%100\n",
    "\n",
    "#------------------------------------------------------------        \n",
    "#функция вносит деньги на счет за вычетол 0.01 процент с суммы      \n",
    "    def add_cash_rub(self, addcashrub: float, addcashkop: float) -> None:\n",
    "        #получаем рубли и вычитаем комисию\n",
    "        calkrub = addcashrub-addcashrub*0.01\n",
    "        #получаем копейки и вычитаем комисию\n",
    "        calkkop = addcashkop-addcashkop*0.01\n",
    "        #вносим рубли отделяя копейки после комисии\n",
    "        self.my_wallet = calkrub//1\n",
    "        #складываем копейки\n",
    "        calkkop = calkkop+calkrub%1\n",
    "        #проверяем содержат ли сумма копеек рубли\n",
    "        if calkkop >= 100:\n",
    "            self.my_wallet = calkkop//100\n",
    "            calkkop = calkkop%100\n",
    "            self.my_kop = calkkop\n",
    "        else:\n",
    "            self.my_kop = calkkop \n",
    "        \n",
    "#---------------------------------------------------------------------\n",
    "#функция снимает деньги со счета и вычетает комисию 0.01 проц с сумммы снятия     \n",
    "    def take_off_cash(self, takeoffrub: float, takeoffkop: float) -> None:\n",
    "        #получаем рубли и копейки со счета и переводим в копейки\n",
    "        kol = (self._my_wallet*100)+self._my_kop\n",
    "        #получаем рубли и копейки для снятия и переводим в копейки\n",
    "        kol2 = ((takeoffrub*100)+takeoffkop)\n",
    "        #проверяем есть ли деньги на счете \n",
    "        if kol < kol2:\n",
    "            print(\"Сумма снятия превышает остаток на счете!\")\n",
    "        else:\n",
    "            #высчитываем разницу и вычитаем процунт 0.01\n",
    "            kol = kol-kol2\n",
    "            kol2 = kol2*0.01\n",
    "            kol = kol-kol2\n",
    "            self._my_wallet = kol//100\n",
    "            self._my_kop = kol%100\n",
    "            \n",
    "#функция переводит деньги, по сути повторяет функцию снятия денег            \n",
    "    def pay_cash(self, payrub: float, paykop: float) -> None:\n",
    "        kol = (self._my_wallet*100)+self._my_kop\n",
    "        kol2 = ((payrub*100)+paykop)\n",
    "        if kol < kol2:\n",
    "            print(\"Сумма перевода превышает остаток на счете!\")\n",
    "        else:\n",
    "            kol = kol-kol2\n",
    "            kol2 = kol2*0.01\n",
    "            kol = kol-kol2\n",
    "            self._my_wallet = kol//100\n",
    "            self._my_kop = kol%100\n",
    "\n",
    "#функция оплаты, в ней добавлен параметр кешбека     \n",
    "    def pay_cash_shop(self, shoprub: float, shopkop: float) -> None:\n",
    "        kol = (self._my_wallet*100)+self._my_kop\n",
    "        kol2 = ((shoprub*100)+shopkop)\n",
    "        if kol < kol2:\n",
    "            print(\"Сумма оплаты превышает остаток на счете!\")\n",
    "        else:\n",
    "            cashback = (kol2*1.03)-kol2\n",
    "            kol = kol-kol2\n",
    "            kol2 = kol2*0.01\n",
    "            kol = kol-kol2+cashback\n",
    "            self._my_wallet = kol//100\n",
    "            self._my_kop = kol%100        "
   ]
  },
  {
   "cell_type": "code",
   "execution_count": 244,
   "id": "d73c1a90-d0c0-4839-a42b-31e6154ed266",
   "metadata": {},
   "outputs": [],
   "source": [
    "new_wallet = Money()\n",
    "new_wallet.my_wallet\n",
    "rub = 0.0\n",
    "kop = 0.0"
   ]
  },
  {
   "cell_type": "code",
   "execution_count": 245,
   "id": "38296e5b-ced5-4068-b5c3-f0b2981c5b3f",
   "metadata": {},
   "outputs": [
    {
     "name": "stdout",
     "output_type": "stream",
     "text": [
      "Введите сумму для пополнения счета. Отдельно в рублях и затем в копейках\n"
     ]
    },
    {
     "name": "stdin",
     "output_type": "stream",
     "text": [
      "Введите рубли:  100\n",
      "Введите копейки:  5\n"
     ]
    },
    {
     "name": "stdout",
     "output_type": "stream",
     "text": [
      "Остаток: 99 руб.4 коп.\n"
     ]
    }
   ],
   "source": [
    "# внесение денег на счет + коммисия за операцию 0.001% . отдельно рубли и копейки\n",
    "print(\"Введите сумму для пополнения счета. Отдельно в рублях и затем в копейках\")\n",
    "rub = float(input(\"Введите рубли: \")) \n",
    "kop = float(input(\"Введите копейки: \"))\n",
    "new_wallet.add_cash_rub(rub, kop)\n",
    "print(f\"Остаток: {int(new_wallet.my_wallet)} руб.{int(new_wallet.my_kop)} коп.\")"
   ]
  },
  {
   "cell_type": "code",
   "execution_count": 246,
   "id": "40a5c26c-5a44-4164-b12f-2839eaadc98b",
   "metadata": {},
   "outputs": [
    {
     "name": "stdout",
     "output_type": "stream",
     "text": [
      "Введите сумму для снятия наличных. Отдельно в рублях и затем в копейках\n"
     ]
    },
    {
     "name": "stdin",
     "output_type": "stream",
     "text": [
      "Введите рубли:  30\n",
      "Введите копейки:  2\n"
     ]
    },
    {
     "name": "stdout",
     "output_type": "stream",
     "text": [
      "Остаток: 68 руб.72 коп.\n"
     ]
    }
   ],
   "source": [
    "# снятие денег со счета + коммисия за операцию 0.001% . отдельно рубли и копейки\n",
    "print(\"Введите сумму для снятия наличных. Отдельно в рублях и затем в копейках\")\n",
    "rub = float(input(\"Введите рубли: \")) \n",
    "kop = float(input(\"Введите копейки: \"))\n",
    "new_wallet.take_off_cash(rub, kop)\n",
    "print(f\"Остаток: {int(new_wallet.my_wallet)} руб.{int(new_wallet.my_kop)} коп.\")"
   ]
  },
  {
   "cell_type": "code",
   "execution_count": 247,
   "id": "fb3d5835-5eab-4781-b7c9-4bfaffe40789",
   "metadata": {},
   "outputs": [
    {
     "name": "stdout",
     "output_type": "stream",
     "text": [
      "Введите сумму для перевода наличных. Отдельно в рублях и затем в копейках\n"
     ]
    },
    {
     "name": "stdin",
     "output_type": "stream",
     "text": [
      "Введите рубли:  10\n",
      "Введите копейки:  4\n"
     ]
    },
    {
     "name": "stdout",
     "output_type": "stream",
     "text": [
      "Остаток: 58 руб.58 коп.\n"
     ]
    }
   ],
   "source": [
    "# перевод денег со счета + коммисия за операцию 0.001% . отдельно рубли и копейки\n",
    "print(\"Введите сумму для перевода наличных. Отдельно в рублях и затем в копейках\")\n",
    "rub = float(input(\"Введите рубли: \")) \n",
    "kop = float(input(\"Введите копейки: \"))\n",
    "new_wallet.pay_cash(rub, kop)\n",
    "print(f\"Остаток: {int(new_wallet.my_wallet)} руб.{int(new_wallet.my_kop)} коп.\")\n"
   ]
  },
  {
   "cell_type": "code",
   "execution_count": 248,
   "id": "2c21be51-3a56-43fa-b3d0-0ae6303ce24a",
   "metadata": {},
   "outputs": [
    {
     "name": "stdout",
     "output_type": "stream",
     "text": [
      "Введите сумму для оплаты. Отдельно в рублях и затем в копейках\n"
     ]
    },
    {
     "name": "stdin",
     "output_type": "stream",
     "text": [
      "Введите рубли:  10\n",
      "Введите копейки:  4\n"
     ]
    },
    {
     "name": "stdout",
     "output_type": "stream",
     "text": [
      "Остаток: 48 руб.74 коп.\n"
     ]
    }
   ],
   "source": [
    "# оплата со счета - коммисия за операцию 0.001% + кэшбэк . отдельно рубли и копейки\n",
    "print(\"Введите сумму для оплаты. Отдельно в рублях и затем в копейках\")\n",
    "rub = float(input(\"Введите рубли: \")) \n",
    "kop = float(input(\"Введите копейки: \"))\n",
    "new_wallet.pay_cash_shop(rub, kop)\n",
    "print(f\"Остаток: {int(new_wallet.my_wallet)} руб.{int(new_wallet.my_kop)} коп.\")"
   ]
  },
  {
   "cell_type": "code",
   "execution_count": null,
   "id": "a0333e71-faf7-4ead-b64c-d2313b4bc637",
   "metadata": {},
   "outputs": [],
   "source": []
  }
 ],
 "metadata": {
  "kernelspec": {
   "display_name": "Python [conda env:base] *",
   "language": "python",
   "name": "conda-base-py"
  },
  "language_info": {
   "codemirror_mode": {
    "name": "ipython",
    "version": 3
   },
   "file_extension": ".py",
   "mimetype": "text/x-python",
   "name": "python",
   "nbconvert_exporter": "python",
   "pygments_lexer": "ipython3",
   "version": "3.13.5"
  }
 },
 "nbformat": 4,
 "nbformat_minor": 5
}
